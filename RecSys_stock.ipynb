{
 "cells": [
  {
   "cell_type": "markdown",
   "id": "f5088cb3",
   "metadata": {},
   "source": [
    "# Импорт модулей и библиотек"
   ]
  },
  {
   "cell_type": "markdown",
   "id": "9b0ca195",
   "metadata": {},
   "source": [
    "Установим библиотеку polara"
   ]
  },
  {
   "cell_type": "code",
   "execution_count": 1,
   "id": "327c422b",
   "metadata": {},
   "outputs": [],
   "source": [
    "# pip install --no-cache-dir --upgrade git+https://github.com/evfro/polara.git#egg=polara"
   ]
  },
  {
   "cell_type": "code",
   "execution_count": 1,
   "id": "e2d6a020",
   "metadata": {},
   "outputs": [
    {
     "name": "stderr",
     "output_type": "stream",
     "text": [
      "C:\\Users\\isaev\\miniconda3\\lib\\site-packages\\lightfm\\_lightfm_fast.py:9: UserWarning: LightFM was compiled without OpenMP support. Only a single thread will be used.\n",
      "  warnings.warn(\n"
     ]
    }
   ],
   "source": [
    "import pickle\n",
    "import pandas as pd\n",
    "import scipy\n",
    "import numpy as np\n",
    "\n",
    "# Scipy\n",
    "from scipy.sparse import csr_matrix\n",
    "from scipy.sparse.linalg import svds\n",
    "\n",
    "import implicit\n",
    "from lightfm import LightFM\n",
    "from lightfm.data import Dataset\n",
    "\n",
    "# Implicit\n",
    "from implicit.nearest_neighbours import CosineRecommender\n",
    "from implicit.als import AlternatingLeastSquares"
   ]
  },
  {
   "cell_type": "markdown",
   "id": "6f3a4822",
   "metadata": {},
   "source": [
    "# Preprocessing"
   ]
  },
  {
   "cell_type": "code",
   "execution_count": 67,
   "id": "3b969d14",
   "metadata": {},
   "outputs": [
    {
     "name": "stdout",
     "output_type": "stream",
     "text": [
      "(6156534, 7)\n"
     ]
    },
    {
     "data": {
      "text/html": [
       "<div>\n",
       "<style scoped>\n",
       "    .dataframe tbody tr th:only-of-type {\n",
       "        vertical-align: middle;\n",
       "    }\n",
       "\n",
       "    .dataframe tbody tr th {\n",
       "        vertical-align: top;\n",
       "    }\n",
       "\n",
       "    .dataframe thead th {\n",
       "        text-align: right;\n",
       "    }\n",
       "</style>\n",
       "<table border=\"1\" class=\"dataframe\">\n",
       "  <thead>\n",
       "    <tr style=\"text-align: right;\">\n",
       "      <th></th>\n",
       "      <th>datetime</th>\n",
       "      <th>ticker</th>\n",
       "      <th>deals</th>\n",
       "      <th>price</th>\n",
       "      <th>user</th>\n",
       "      <th>cf</th>\n",
       "      <th>date</th>\n",
       "    </tr>\n",
       "  </thead>\n",
       "  <tbody>\n",
       "    <tr>\n",
       "      <th>0</th>\n",
       "      <td>2015-11-17 18:36:00</td>\n",
       "      <td>NLMK</td>\n",
       "      <td>1090</td>\n",
       "      <td>71.37</td>\n",
       "      <td>1_62009</td>\n",
       "      <td>-77793.30</td>\n",
       "      <td>2015-11-17</td>\n",
       "    </tr>\n",
       "    <tr>\n",
       "      <th>1</th>\n",
       "      <td>2015-11-17 18:36:00</td>\n",
       "      <td>NLMK</td>\n",
       "      <td>270</td>\n",
       "      <td>71.39</td>\n",
       "      <td>1_62009</td>\n",
       "      <td>-19275.30</td>\n",
       "      <td>2015-11-17</td>\n",
       "    </tr>\n",
       "    <tr>\n",
       "      <th>2</th>\n",
       "      <td>2015-11-17 18:37:00</td>\n",
       "      <td>NLMK</td>\n",
       "      <td>60</td>\n",
       "      <td>71.37</td>\n",
       "      <td>1_62009</td>\n",
       "      <td>-4282.20</td>\n",
       "      <td>2015-11-17</td>\n",
       "    </tr>\n",
       "    <tr>\n",
       "      <th>3</th>\n",
       "      <td>2015-12-09 12:55:00</td>\n",
       "      <td>MTLR</td>\n",
       "      <td>1</td>\n",
       "      <td>62.65</td>\n",
       "      <td>1_62009</td>\n",
       "      <td>-62.65</td>\n",
       "      <td>2015-12-09</td>\n",
       "    </tr>\n",
       "    <tr>\n",
       "      <th>4</th>\n",
       "      <td>2015-12-09 12:56:00</td>\n",
       "      <td>MTLR</td>\n",
       "      <td>1</td>\n",
       "      <td>62.65</td>\n",
       "      <td>1_62009</td>\n",
       "      <td>-62.65</td>\n",
       "      <td>2015-12-09</td>\n",
       "    </tr>\n",
       "  </tbody>\n",
       "</table>\n",
       "</div>"
      ],
      "text/plain": [
       "             datetime ticker  deals  price     user        cf       date\n",
       "0 2015-11-17 18:36:00   NLMK   1090  71.37  1_62009 -77793.30 2015-11-17\n",
       "1 2015-11-17 18:36:00   NLMK    270  71.39  1_62009 -19275.30 2015-11-17\n",
       "2 2015-11-17 18:37:00   NLMK     60  71.37  1_62009  -4282.20 2015-11-17\n",
       "3 2015-12-09 12:55:00   MTLR      1  62.65  1_62009    -62.65 2015-12-09\n",
       "4 2015-12-09 12:56:00   MTLR      1  62.65  1_62009    -62.65 2015-12-09"
      ]
     },
     "execution_count": 67,
     "metadata": {},
     "output_type": "execute_result"
    }
   ],
   "source": [
    "all_years_df = pd.DataFrame([])\n",
    "for year in range(2015, 2022):\n",
    "    with open(f'Data\\df_{year}_cleaned.pickle', \"rb\") as file:\n",
    "        df_years = pickle.load(file)\n",
    "    all_years_df = all_years_df.append(df_years, ignore_index=True)\n",
    "        \n",
    "print(all_years_df.shape)\n",
    "all_years_df.head()"
   ]
  },
  {
   "cell_type": "markdown",
   "id": "ee8ed6cb",
   "metadata": {},
   "source": [
    "Проверим на наличие пропущенных значений"
   ]
  },
  {
   "cell_type": "code",
   "execution_count": 3,
   "id": "c9ecee5f",
   "metadata": {},
   "outputs": [
    {
     "data": {
      "text/plain": [
       "datetime    0\n",
       "ticker      0\n",
       "deals       0\n",
       "price       0\n",
       "user        0\n",
       "cf          0\n",
       "date        0\n",
       "dtype: int64"
      ]
     },
     "execution_count": 3,
     "metadata": {},
     "output_type": "execute_result"
    }
   ],
   "source": [
    "all_years_df.isnull().sum()"
   ]
  },
  {
   "cell_type": "markdown",
   "id": "f30531f1",
   "metadata": {},
   "source": [
    "*Проверим на наличие дубликотов*"
   ]
  },
  {
   "cell_type": "code",
   "execution_count": 4,
   "id": "9dd269d1",
   "metadata": {},
   "outputs": [],
   "source": [
    "all_years_df = all_years_df.drop_duplicates().reset_index(drop=True)"
   ]
  },
  {
   "cell_type": "markdown",
   "id": "7f02258b",
   "metadata": {},
   "source": [
    "*Нулей нет, дубликтов нет -  можно работать дальше*"
   ]
  },
  {
   "cell_type": "code",
   "execution_count": 92,
   "id": "d1d19b54",
   "metadata": {},
   "outputs": [
    {
     "name": "stderr",
     "output_type": "stream",
     "text": [
      "C:\\Users\\isaev\\AppData\\Local\\Temp/ipykernel_9412/2509338410.py:1: FutureWarning: Indexing with multiple keys (implicitly converted to a tuple of keys) will be deprecated, use a list instead.\n",
      "  df = all_years_df.groupby(['ticker', 'user'], as_index=False)['deals', 'price', 'cf'].sum()\n"
     ]
    },
    {
     "data": {
      "text/html": [
       "<div>\n",
       "<style scoped>\n",
       "    .dataframe tbody tr th:only-of-type {\n",
       "        vertical-align: middle;\n",
       "    }\n",
       "\n",
       "    .dataframe tbody tr th {\n",
       "        vertical-align: top;\n",
       "    }\n",
       "\n",
       "    .dataframe thead th {\n",
       "        text-align: right;\n",
       "    }\n",
       "</style>\n",
       "<table border=\"1\" class=\"dataframe\">\n",
       "  <thead>\n",
       "    <tr style=\"text-align: right;\">\n",
       "      <th></th>\n",
       "      <th>ticker</th>\n",
       "      <th>user</th>\n",
       "      <th>deals</th>\n",
       "      <th>price</th>\n",
       "      <th>cf</th>\n",
       "    </tr>\n",
       "  </thead>\n",
       "  <tbody>\n",
       "    <tr>\n",
       "      <th>0</th>\n",
       "      <td>AFKS</td>\n",
       "      <td>1_100013</td>\n",
       "      <td>-100</td>\n",
       "      <td>19.500</td>\n",
       "      <td>1950.0</td>\n",
       "    </tr>\n",
       "    <tr>\n",
       "      <th>1</th>\n",
       "      <td>AFKS</td>\n",
       "      <td>1_100018</td>\n",
       "      <td>1000</td>\n",
       "      <td>18.980</td>\n",
       "      <td>-18980.0</td>\n",
       "    </tr>\n",
       "    <tr>\n",
       "      <th>2</th>\n",
       "      <td>AFKS</td>\n",
       "      <td>1_100033</td>\n",
       "      <td>0</td>\n",
       "      <td>501.830</td>\n",
       "      <td>156.0</td>\n",
       "    </tr>\n",
       "    <tr>\n",
       "      <th>3</th>\n",
       "      <td>AFKS</td>\n",
       "      <td>1_100049</td>\n",
       "      <td>0</td>\n",
       "      <td>221.835</td>\n",
       "      <td>-875.0</td>\n",
       "    </tr>\n",
       "    <tr>\n",
       "      <th>4</th>\n",
       "      <td>AFKS</td>\n",
       "      <td>1_100050</td>\n",
       "      <td>0</td>\n",
       "      <td>156.830</td>\n",
       "      <td>674.0</td>\n",
       "    </tr>\n",
       "  </tbody>\n",
       "</table>\n",
       "</div>"
      ],
      "text/plain": [
       "  ticker      user  deals    price       cf\n",
       "0   AFKS  1_100013   -100   19.500   1950.0\n",
       "1   AFKS  1_100018   1000   18.980 -18980.0\n",
       "2   AFKS  1_100033      0  501.830    156.0\n",
       "3   AFKS  1_100049      0  221.835   -875.0\n",
       "4   AFKS  1_100050      0  156.830    674.0"
      ]
     },
     "execution_count": 92,
     "metadata": {},
     "output_type": "execute_result"
    }
   ],
   "source": [
    "df = all_years_df.groupby(['ticker', 'user'], as_index=False)['deals', 'price', 'cf'].sum()\n",
    "df.head()"
   ]
  },
  {
   "cell_type": "code",
   "execution_count": 93,
   "id": "44c896a0",
   "metadata": {},
   "outputs": [
    {
     "name": "stdout",
     "output_type": "stream",
     "text": [
      "(246857, 7)\n"
     ]
    },
    {
     "data": {
      "text/html": [
       "<div>\n",
       "<style scoped>\n",
       "    .dataframe tbody tr th:only-of-type {\n",
       "        vertical-align: middle;\n",
       "    }\n",
       "\n",
       "    .dataframe tbody tr th {\n",
       "        vertical-align: top;\n",
       "    }\n",
       "\n",
       "    .dataframe thead th {\n",
       "        text-align: right;\n",
       "    }\n",
       "</style>\n",
       "<table border=\"1\" class=\"dataframe\">\n",
       "  <thead>\n",
       "    <tr style=\"text-align: right;\">\n",
       "      <th></th>\n",
       "      <th>ticker</th>\n",
       "      <th>user</th>\n",
       "      <th>deals</th>\n",
       "      <th>price</th>\n",
       "      <th>cf</th>\n",
       "      <th>new_ticker</th>\n",
       "      <th>new_user</th>\n",
       "    </tr>\n",
       "  </thead>\n",
       "  <tbody>\n",
       "    <tr>\n",
       "      <th>222783</th>\n",
       "      <td>TATNP</td>\n",
       "      <td>1_247232</td>\n",
       "      <td>-250</td>\n",
       "      <td>3675.800</td>\n",
       "      <td>134765.0</td>\n",
       "      <td>61</td>\n",
       "      <td>2948</td>\n",
       "    </tr>\n",
       "    <tr>\n",
       "      <th>31139</th>\n",
       "      <td>CHMF</td>\n",
       "      <td>1_63148</td>\n",
       "      <td>-130</td>\n",
       "      <td>2178.500</td>\n",
       "      <td>88312.0</td>\n",
       "      <td>7</td>\n",
       "      <td>15435</td>\n",
       "    </tr>\n",
       "    <tr>\n",
       "      <th>110215</th>\n",
       "      <td>MOEX</td>\n",
       "      <td>1_286349</td>\n",
       "      <td>-3000</td>\n",
       "      <td>2209.890</td>\n",
       "      <td>510004.6</td>\n",
       "      <td>29</td>\n",
       "      <td>33247</td>\n",
       "    </tr>\n",
       "    <tr>\n",
       "      <th>201469</th>\n",
       "      <td>SBERP</td>\n",
       "      <td>1_99772</td>\n",
       "      <td>-100</td>\n",
       "      <td>336.510</td>\n",
       "      <td>9405.0</td>\n",
       "      <td>54</td>\n",
       "      <td>29630</td>\n",
       "    </tr>\n",
       "    <tr>\n",
       "      <th>246695</th>\n",
       "      <td>YNDX</td>\n",
       "      <td>1_91175</td>\n",
       "      <td>0</td>\n",
       "      <td>12384.000</td>\n",
       "      <td>1070.0</td>\n",
       "      <td>69</td>\n",
       "      <td>15942</td>\n",
       "    </tr>\n",
       "    <tr>\n",
       "      <th>42298</th>\n",
       "      <td>FXCN</td>\n",
       "      <td>1_245437</td>\n",
       "      <td>1</td>\n",
       "      <td>4081.000</td>\n",
       "      <td>-4081.0</td>\n",
       "      <td>14</td>\n",
       "      <td>2711</td>\n",
       "    </tr>\n",
       "    <tr>\n",
       "      <th>48720</th>\n",
       "      <td>GAZP</td>\n",
       "      <td>1_240603</td>\n",
       "      <td>-990</td>\n",
       "      <td>11720.140</td>\n",
       "      <td>261576.7</td>\n",
       "      <td>18</td>\n",
       "      <td>7167</td>\n",
       "    </tr>\n",
       "    <tr>\n",
       "      <th>208273</th>\n",
       "      <td>SNGS</td>\n",
       "      <td>1_62121</td>\n",
       "      <td>-300</td>\n",
       "      <td>35.795</td>\n",
       "      <td>10738.5</td>\n",
       "      <td>58</td>\n",
       "      <td>4809</td>\n",
       "    </tr>\n",
       "    <tr>\n",
       "      <th>186166</th>\n",
       "      <td>SBER</td>\n",
       "      <td>1_253540</td>\n",
       "      <td>-900</td>\n",
       "      <td>486.870</td>\n",
       "      <td>219087.0</td>\n",
       "      <td>53</td>\n",
       "      <td>30408</td>\n",
       "    </tr>\n",
       "    <tr>\n",
       "      <th>167850</th>\n",
       "      <td>ROSN</td>\n",
       "      <td>1_87760</td>\n",
       "      <td>0</td>\n",
       "      <td>48702.750</td>\n",
       "      <td>-181665.5</td>\n",
       "      <td>48</td>\n",
       "      <td>10885</td>\n",
       "    </tr>\n",
       "  </tbody>\n",
       "</table>\n",
       "</div>"
      ],
      "text/plain": [
       "       ticker      user  deals      price        cf  new_ticker  new_user\n",
       "222783  TATNP  1_247232   -250   3675.800  134765.0          61      2948\n",
       "31139    CHMF   1_63148   -130   2178.500   88312.0           7     15435\n",
       "110215   MOEX  1_286349  -3000   2209.890  510004.6          29     33247\n",
       "201469  SBERP   1_99772   -100    336.510    9405.0          54     29630\n",
       "246695   YNDX   1_91175      0  12384.000    1070.0          69     15942\n",
       "42298    FXCN  1_245437      1   4081.000   -4081.0          14      2711\n",
       "48720    GAZP  1_240603   -990  11720.140  261576.7          18      7167\n",
       "208273   SNGS   1_62121   -300     35.795   10738.5          58      4809\n",
       "186166   SBER  1_253540   -900    486.870  219087.0          53     30408\n",
       "167850   ROSN   1_87760      0  48702.750 -181665.5          48     10885"
      ]
     },
     "execution_count": 93,
     "metadata": {},
     "output_type": "execute_result"
    }
   ],
   "source": [
    "#Создание новых колонок с ID тикеров и юзеров\n",
    "\n",
    "tick2ind = {ticker:i for i, ticker in enumerate(df.ticker.unique())}\n",
    "ind2tick = {val:key for key, val in tick2ind.items()}\n",
    "\n",
    "df['new_ticker'] = df['ticker'].apply(lambda x: tick2ind[x])\n",
    "\n",
    "user2ind = {user:i for i, user in enumerate(df.user.unique())}\n",
    "ind2user = {val:key for key, val in user2ind.items()}\n",
    "\n",
    "df['new_user'] = df['user'].apply(lambda x: user2ind[x])\n",
    "\n",
    "\n",
    "print(df.shape)\n",
    "df.sample(10)"
   ]
  },
  {
   "cell_type": "markdown",
   "id": "eeecc6e5",
   "metadata": {},
   "source": [
    "### Создаем словарь: ID юзера и его сделки"
   ]
  },
  {
   "cell_type": "code",
   "execution_count": 94,
   "id": "44ac5adb",
   "metadata": {},
   "outputs": [],
   "source": [
    "def user_deals(df, data):    \n",
    "    \n",
    "    \"\"\"\n",
    "    Функция получает на вход столбец датафрейма с айдишниками юзеров\n",
    "    \n",
    "    На выходе: словарь с ключами - ID юзера, а значения - все его сделки\n",
    "    \"\"\"\n",
    "    \n",
    "    #df = pd.DataFrame()\n",
    "    new_user = {}\n",
    "    users=set(data.values)\n",
    "    \n",
    "    for user in users:\n",
    "        deals = df[(data==user)]\n",
    "        if len(deals)==1:\n",
    "            continue\n",
    "        else:\n",
    "            new_user[user] = deals    \n",
    "            \n",
    "    return new_user"
   ]
  },
  {
   "cell_type": "markdown",
   "id": "234fc091",
   "metadata": {},
   "source": [
    "# Train_test_split"
   ]
  },
  {
   "cell_type": "code",
   "execution_count": 95,
   "id": "7de150e3",
   "metadata": {},
   "outputs": [],
   "source": [
    "def train_test_split(train_size=0.7, test_size=0.3):\n",
    "    \n",
    "    train = pd.DataFrame()\n",
    "    test = pd.DataFrame()\n",
    "    dict_user = user_deals(df, df[\"new_user\"])\n",
    "    \n",
    "    for key in dict_user.keys():\n",
    "        deals_count = len(dict_user[key])\n",
    "        to_train = round(deals_count*train_size)\n",
    "        to_test = round(deals_count*test_size)\n",
    "        \n",
    "        # Если деление произойдет не по тем пропорциям\n",
    "        # while (to_train+to_test)>deals_count:\n",
    "        #    to_train-=1\n",
    "            \n",
    "        train = pd.concat([train, dict_user[key][:to_train]])\n",
    "        test = pd.concat([test, dict_user[key][-to_test:]])\n",
    "    return (train, test)"
   ]
  },
  {
   "cell_type": "code",
   "execution_count": 96,
   "id": "311d6e7c",
   "metadata": {},
   "outputs": [
    {
     "name": "stdout",
     "output_type": "stream",
     "text": [
      "Wall time: 7min 19s\n"
     ]
    }
   ],
   "source": [
    "%%time\n",
    "train, test = train_test_split(train_size=0.7, test_size=0.3)"
   ]
  },
  {
   "cell_type": "code",
   "execution_count": 97,
   "id": "fb08a6f0",
   "metadata": {},
   "outputs": [
    {
     "name": "stdout",
     "output_type": "stream",
     "text": [
      "Train size (165960, 7)\n",
      "Test size (74692, 7)\n"
     ]
    }
   ],
   "source": [
    "print(\"Train size\", train.shape)\n",
    "print(\"Test size\", test.shape)"
   ]
  },
  {
   "cell_type": "code",
   "execution_count": 98,
   "id": "2811f801",
   "metadata": {},
   "outputs": [
    {
     "data": {
      "text/html": [
       "<div>\n",
       "<style scoped>\n",
       "    .dataframe tbody tr th:only-of-type {\n",
       "        vertical-align: middle;\n",
       "    }\n",
       "\n",
       "    .dataframe tbody tr th {\n",
       "        vertical-align: top;\n",
       "    }\n",
       "\n",
       "    .dataframe thead th {\n",
       "        text-align: right;\n",
       "    }\n",
       "</style>\n",
       "<table border=\"1\" class=\"dataframe\">\n",
       "  <thead>\n",
       "    <tr style=\"text-align: right;\">\n",
       "      <th></th>\n",
       "      <th>ticker</th>\n",
       "      <th>user</th>\n",
       "      <th>deals</th>\n",
       "      <th>price</th>\n",
       "      <th>cf</th>\n",
       "      <th>new_ticker</th>\n",
       "      <th>new_user</th>\n",
       "    </tr>\n",
       "  </thead>\n",
       "  <tbody>\n",
       "    <tr>\n",
       "      <th>0</th>\n",
       "      <td>AFKS</td>\n",
       "      <td>1_100013</td>\n",
       "      <td>-100</td>\n",
       "      <td>19.50</td>\n",
       "      <td>1950.0</td>\n",
       "      <td>0</td>\n",
       "      <td>0</td>\n",
       "    </tr>\n",
       "    <tr>\n",
       "      <th>136478</th>\n",
       "      <td>NVTK</td>\n",
       "      <td>1_100013</td>\n",
       "      <td>0</td>\n",
       "      <td>1316.80</td>\n",
       "      <td>122.0</td>\n",
       "      <td>38</td>\n",
       "      <td>0</td>\n",
       "    </tr>\n",
       "    <tr>\n",
       "      <th>178502</th>\n",
       "      <td>SBER</td>\n",
       "      <td>1_100013</td>\n",
       "      <td>0</td>\n",
       "      <td>287.31</td>\n",
       "      <td>27.8</td>\n",
       "      <td>53</td>\n",
       "      <td>0</td>\n",
       "    </tr>\n",
       "    <tr>\n",
       "      <th>2</th>\n",
       "      <td>AFKS</td>\n",
       "      <td>1_100033</td>\n",
       "      <td>0</td>\n",
       "      <td>501.83</td>\n",
       "      <td>156.0</td>\n",
       "      <td>0</td>\n",
       "      <td>2</td>\n",
       "    </tr>\n",
       "    <tr>\n",
       "      <th>44199</th>\n",
       "      <td>GAZP</td>\n",
       "      <td>1_100033</td>\n",
       "      <td>-70</td>\n",
       "      <td>9702.56</td>\n",
       "      <td>11312.1</td>\n",
       "      <td>18</td>\n",
       "      <td>2</td>\n",
       "    </tr>\n",
       "  </tbody>\n",
       "</table>\n",
       "</div>"
      ],
      "text/plain": [
       "       ticker      user  deals    price       cf  new_ticker  new_user\n",
       "0        AFKS  1_100013   -100    19.50   1950.0           0         0\n",
       "136478   NVTK  1_100013      0  1316.80    122.0          38         0\n",
       "178502   SBER  1_100013      0   287.31     27.8          53         0\n",
       "2        AFKS  1_100033      0   501.83    156.0           0         2\n",
       "44199    GAZP  1_100033    -70  9702.56  11312.1          18         2"
      ]
     },
     "execution_count": 98,
     "metadata": {},
     "output_type": "execute_result"
    }
   ],
   "source": [
    "train.head(5)"
   ]
  },
  {
   "cell_type": "code",
   "execution_count": 12,
   "id": "b4a7d231",
   "metadata": {},
   "outputs": [
    {
     "data": {
      "text/html": [
       "<div>\n",
       "<style scoped>\n",
       "    .dataframe tbody tr th:only-of-type {\n",
       "        vertical-align: middle;\n",
       "    }\n",
       "\n",
       "    .dataframe tbody tr th {\n",
       "        vertical-align: top;\n",
       "    }\n",
       "\n",
       "    .dataframe thead th {\n",
       "        text-align: right;\n",
       "    }\n",
       "</style>\n",
       "<table border=\"1\" class=\"dataframe\">\n",
       "  <thead>\n",
       "    <tr style=\"text-align: right;\">\n",
       "      <th></th>\n",
       "      <th>ticker</th>\n",
       "      <th>user</th>\n",
       "      <th>deals</th>\n",
       "      <th>new_ticker</th>\n",
       "      <th>new_user</th>\n",
       "    </tr>\n",
       "  </thead>\n",
       "  <tbody>\n",
       "    <tr>\n",
       "      <th>205306</th>\n",
       "      <td>SNGS</td>\n",
       "      <td>1_100013</td>\n",
       "      <td>1</td>\n",
       "      <td>58</td>\n",
       "      <td>0</td>\n",
       "    </tr>\n",
       "    <tr>\n",
       "      <th>172011</th>\n",
       "      <td>RTKM</td>\n",
       "      <td>1_100033</td>\n",
       "      <td>2</td>\n",
       "      <td>50</td>\n",
       "      <td>2</td>\n",
       "    </tr>\n",
       "    <tr>\n",
       "      <th>205307</th>\n",
       "      <td>SNGS</td>\n",
       "      <td>1_100033</td>\n",
       "      <td>43</td>\n",
       "      <td>58</td>\n",
       "      <td>2</td>\n",
       "    </tr>\n",
       "    <tr>\n",
       "      <th>175690</th>\n",
       "      <td>RUAL</td>\n",
       "      <td>1_100049</td>\n",
       "      <td>2</td>\n",
       "      <td>52</td>\n",
       "      <td>3</td>\n",
       "    </tr>\n",
       "    <tr>\n",
       "      <th>225934</th>\n",
       "      <td>TGKA</td>\n",
       "      <td>1_100049</td>\n",
       "      <td>20</td>\n",
       "      <td>63</td>\n",
       "      <td>3</td>\n",
       "    </tr>\n",
       "  </tbody>\n",
       "</table>\n",
       "</div>"
      ],
      "text/plain": [
       "       ticker      user  deals  new_ticker  new_user\n",
       "205306   SNGS  1_100013      1          58         0\n",
       "172011   RTKM  1_100033      2          50         2\n",
       "205307   SNGS  1_100033     43          58         2\n",
       "175690   RUAL  1_100049      2          52         3\n",
       "225934   TGKA  1_100049     20          63         3"
      ]
     },
     "execution_count": 12,
     "metadata": {},
     "output_type": "execute_result"
    }
   ],
   "source": [
    "test.head()"
   ]
  },
  {
   "cell_type": "markdown",
   "id": "d91eb329",
   "metadata": {},
   "source": [
    "# Создание sparse матрицы с помощью метода CSR"
   ]
  },
  {
   "cell_type": "code",
   "execution_count": 13,
   "id": "1cec60be",
   "metadata": {},
   "outputs": [],
   "source": [
    "# Train dataset\n",
    "n_rows_train = train[\"new_user\"].nunique()\n",
    "n_cols_train = train[\"new_ticker\"].nunique()\n",
    "\n",
    "row_train = train[\"new_user\"] #user\n",
    "col_train = train[\"new_ticker\"] #ticker\n",
    "data_train = train[\"deals\"].astype(float) #deals\n",
    "\n",
    "# Test dataset\n",
    "n_rows_test = test[\"new_user\"].nunique()\n",
    "n_cols_test = test[\"new_ticker\"].nunique()\n",
    "\n",
    "row_test = test[\"new_user\"] #user\n",
    "col_test = test[\"new_ticker\"] #ticker\n",
    "data_test = test[\"deals\"].astype(float) #deals\n",
    "\n",
    "sample_matr_train = csr_matrix((data_train, (row_train, col_train)))\n",
    "\n",
    "sample_matr_test = csr_matrix((data_test, (row_test, col_test)))"
   ]
  },
  {
   "cell_type": "code",
   "execution_count": 14,
   "id": "c80df3a0",
   "metadata": {},
   "outputs": [
    {
     "data": {
      "text/plain": [
       "(40601, 69)"
      ]
     },
     "execution_count": 14,
     "metadata": {},
     "output_type": "execute_result"
    }
   ],
   "source": [
    "sample_matr_train.shape"
   ]
  },
  {
   "cell_type": "code",
   "execution_count": 15,
   "id": "a3c546cb",
   "metadata": {},
   "outputs": [
    {
     "data": {
      "text/plain": [
       "(40601, 70)"
      ]
     },
     "execution_count": 15,
     "metadata": {},
     "output_type": "execute_result"
    }
   ],
   "source": [
    "sample_matr_test.shape"
   ]
  },
  {
   "cell_type": "markdown",
   "id": "881e11f6",
   "metadata": {},
   "source": [
    "# Метрики"
   ]
  },
  {
   "cell_type": "markdown",
   "id": "0a35eb1e",
   "metadata": {},
   "source": [
    "Precision можно интепретировать как долю релевантных рекомендаций, мы дополнительно считаем среднее по всем пользователям\n",
    "\n",
    "Precision = TP / (TP + FP), где TP - фильмы из тестовой выборки, совпавшие с рекомендациями, а TP + FP - это все рекомендованные объекты, то есть K - количество предсказанных объектов"
   ]
  },
  {
   "cell_type": "code",
   "execution_count": 16,
   "id": "76ba6bff",
   "metadata": {},
   "outputs": [],
   "source": [
    "def precision(test_data, predict_data):\n",
    "\n",
    "    '''\n",
    "     На вход:\n",
    "     - test_data - тестовый набор данных\n",
    "     - predict_data - предсказания\n",
    "\n",
    "     k берется таким, для которого мы рассчитывали рекомендации (длина рекомендаций)\n",
    "\n",
    "     На выходе:\n",
    "         Средняя метрика precision@k по всем пользователям\n",
    "    '''\n",
    "    \n",
    "    sum_precision = 0\n",
    "    \n",
    "    # вычисляем метрику по каждому пользователю\n",
    "    for user in test_data.index:\n",
    "        try:\n",
    "            TP = len(set(predict_data['ticker'][user]).intersection(set(test_data['ticker'][user])))   \n",
    "            k = len(predict_data['ticker'][user])\n",
    "            \n",
    "        except TypeError:\n",
    "            TP = 0\n",
    "            K = 0\n",
    "    \n",
    "        sum_precision += TP / k\n",
    "\n",
    "    # находим среднее по пользователям\n",
    "    return sum_precision / len(test_data.index.unique())"
   ]
  },
  {
   "cell_type": "markdown",
   "id": "8b20c81b",
   "metadata": {},
   "source": [
    "Recall интерпретируется как доля релевантных объектов, попавших в рекомендации, мы дополнительно считаем среднее по всем пользователям\n",
    "\n",
    "Recall = TP / (TP + FN), где TP - фильмы из тестовой выборки, совпавшие с рекомендациями, а TP + FN - это все объекты из тестовой выборки"
   ]
  },
  {
   "cell_type": "code",
   "execution_count": 17,
   "id": "b5bc4832",
   "metadata": {},
   "outputs": [],
   "source": [
    "def mean_recall(test_data, predict_data):\n",
    "\n",
    "    '''\n",
    "     На вход подается:\n",
    "         - test_data - тестовый набор данных\n",
    "         - predict_data - предсказания\n",
    "\n",
    "     k берется таким, для которого мы рассчитывали рекомендации (длина рекомендаций)\n",
    "\n",
    "     На выходе:\n",
    "         Средняя метрика recall@k по всем пользователям\n",
    "    '''\n",
    "\n",
    "    sum_recall = 0\n",
    "\n",
    "    # вычисляем метрику по каждому пользователю\n",
    "    for user in test_data.index.unique():\n",
    "        \n",
    "        TP = len(set(predict_data['ticker'][user]).intersection(set(test_data['ticker'][user])))\n",
    "        TP_FN = len(test_data['ticker'][user])\n",
    "\n",
    "        sum_recall += TP / TP_FN\n",
    "\n",
    "    # находим среднее по пользователям\n",
    "    return sum_recall / len(test_data.index.unique())"
   ]
  },
  {
   "cell_type": "markdown",
   "id": "cf17c220",
   "metadata": {},
   "source": [
    "Mean Reciprocal Rank - средний обратный ранк первого правильного вхождения рекомендации в тестовые данные"
   ]
  },
  {
   "cell_type": "code",
   "execution_count": 18,
   "id": "192a411d",
   "metadata": {},
   "outputs": [],
   "source": [
    "def MRR(test_data, predict_data):\n",
    "\n",
    "    '''\n",
    "    RR - обратный ранг: 1 / индеск первого вхождения рекомендации в тест\n",
    "\n",
    "    На вход подается:\n",
    "        - test_data - тестовый набор данных\n",
    "        - predict_data - предсказания\n",
    "\n",
    "    k берется таким, для которого мы рассчитывали рекомендации (длина рекомендаций)\n",
    "\n",
    "    На выходе:\n",
    "        Метрика MRR@k по всем пользователям\n",
    "    '''\n",
    "\n",
    "    sum_rr = 0\n",
    "\n",
    "    # находим порядковый номер первого вхождения правильной рекомендации в тест\n",
    "    for user in test_data.index.unique():\n",
    "        \n",
    "        rank = [1 + list(predict_data['ticker'][user]).index(x) for x in \\\n",
    "                set(predict_data['ticker'][user]).intersection(set(test_data['ticker'][user]))]\n",
    "\n",
    "    # находим обратный ранк, если попадания нет, то зануляем\n",
    "    if len(rank) == 0:\n",
    "        rr = 0\n",
    "    else:\n",
    "        rr = 1 / min(rank)\n",
    "\n",
    "    sum_rr += rr\n",
    "\n",
    "    # находим среднее по пользователям\n",
    "    return sum_rr / len(test_data.index.unique())"
   ]
  },
  {
   "cell_type": "markdown",
   "id": "631a0861",
   "metadata": {},
   "source": [
    "Average Precision дополнительно вознаграждает нас за предварительну загрузку рекомендаций, которые будут правильными, то есть здесь, в отличие от Precision, учитывается порядок выдаваемых рекомендаций и их точность отдельно. MAP - это среднее AP по всем пользователям"
   ]
  },
  {
   "cell_type": "code",
   "execution_count": 19,
   "id": "9ad0bdcb",
   "metadata": {},
   "outputs": [],
   "source": [
    "def mean_average_precision_at_k(test_data, predict_data):\n",
    "\n",
    "    '''\n",
    "    Mean Average Precision - средняя точность по пользователям\n",
    "\n",
    "    На вход:\n",
    "        - test_data - тестовый набор данных\n",
    "        - predict_data - предсказания\n",
    "\n",
    "    k берется таким, для которого мы рассчитывали рекомендации (длина рекомендаций)\n",
    "\n",
    "    На выходе:\n",
    "        Метрика MAP@k по всем пользователям\n",
    "    '''\n",
    "\n",
    "    sum_ap = 0\n",
    "\n",
    "    # итерируемся по пользователям\n",
    "    for user in test_data.index.unique():\n",
    "\n",
    "        num_hits = 0\n",
    "        score = 0\n",
    "\n",
    "        for i, p in enumerate(predict_data['ticker'][user]):\n",
    "\n",
    "            if p in test_data['ticker'][user] and p not in predict_data['ticker'][user][:i]:\n",
    "                num_hits += 1\n",
    "                score += num_hits / (i + 1)\n",
    "\n",
    "        sum_ap += score / min(len(test_data['ticker'][user]), len(predict_data['ticker'][user]))\n",
    "\n",
    "    # находим среднее по пользователям\n",
    "    return sum_ap / len(test_data.index.unique())"
   ]
  },
  {
   "cell_type": "markdown",
   "id": "5cb16427",
   "metadata": {},
   "source": [
    "### Сингулярное разложение матрицы"
   ]
  },
  {
   "cell_type": "code",
   "execution_count": 20,
   "id": "2f57465a",
   "metadata": {},
   "outputs": [],
   "source": [
    "# Train\n",
    "U_train, S_train, VT_train = svds(sample_matr_train, k=66)\n",
    "\n",
    "# Test\n",
    "U_test, S_test, VT_test = svds(sample_matr_test, k=60)"
   ]
  },
  {
   "cell_type": "code",
   "execution_count": 21,
   "id": "7638088c",
   "metadata": {},
   "outputs": [
    {
     "name": "stdout",
     "output_type": "stream",
     "text": [
      "Train size:  (40601, 66) | (66,) | (66, 69)\n",
      "Test size:  (40601, 60) | (60,) | (60, 70)\n"
     ]
    }
   ],
   "source": [
    "print('Train size: ', U_train.shape, '|', S_train.shape, '|', VT_train.shape)\n",
    "print('Test size: ', U_test.shape, '|', S_test.shape, '|', VT_test.shape)"
   ]
  },
  {
   "cell_type": "code",
   "execution_count": 22,
   "id": "25de8fbf",
   "metadata": {},
   "outputs": [
    {
     "name": "stdout",
     "output_type": "stream",
     "text": [
      "(66, 66)\n",
      "(60, 60)\n"
     ]
    }
   ],
   "source": [
    "S_train_diag = np.diag(S_train)\n",
    "print(S_train_diag.shape)\n",
    "\n",
    "S_test_diag = np.diag(S_test)\n",
    "print(S_test_diag.shape)"
   ]
  },
  {
   "cell_type": "markdown",
   "id": "26c9d9c4",
   "metadata": {},
   "source": [
    "### Dense матрица"
   ]
  },
  {
   "cell_type": "code",
   "execution_count": 23,
   "id": "ac9268be",
   "metadata": {},
   "outputs": [
    {
     "name": "stdout",
     "output_type": "stream",
     "text": [
      "(40601, 69)\n",
      "(40601, 70)\n"
     ]
    }
   ],
   "source": [
    "matrics_singular_train = U_train @ S_train_diag @ VT_train\n",
    "\n",
    "matrics_singular_test = U_test @ S_test_diag @ VT_test\n",
    "\n",
    "print(matrics_singular_train.shape)\n",
    "print(matrics_singular_test.shape)"
   ]
  },
  {
   "cell_type": "code",
   "execution_count": 24,
   "id": "596db569",
   "metadata": {},
   "outputs": [
    {
     "name": "stdout",
     "output_type": "stream",
     "text": [
      "(40601, 69)\n",
      "(40601, 70)\n"
     ]
    }
   ],
   "source": [
    "sp_matr_singular_train = csr_matrix(matrics_singular_train)\n",
    "\n",
    "sp_matr_singular_test = csr_matrix(matrics_singular_test) \n",
    "\n",
    "print(sp_matr_singular_train.shape)\n",
    "print(sp_matr_singular_test.shape)"
   ]
  },
  {
   "cell_type": "code",
   "execution_count": 25,
   "id": "73c0bd97",
   "metadata": {},
   "outputs": [
    {
     "name": "stdout",
     "output_type": "stream",
     "text": [
      "Train error =  0.0008076185877393496\n",
      "Test error =  0.00040341602181824575\n"
     ]
    }
   ],
   "source": [
    "error_train = scipy.sparse.linalg.norm(sample_matr_train - sp_matr_singular_train) / scipy.sparse.linalg.norm(sample_matr_train)\n",
    "\n",
    "error_test = scipy.sparse.linalg.norm(sample_matr_test - sp_matr_singular_test) / scipy.sparse.linalg.norm(sample_matr_test)\n",
    "\n",
    "print('Train error = ',error_train)\n",
    "print('Test error = ',error_test)"
   ]
  },
  {
   "cell_type": "code",
   "execution_count": 26,
   "id": "7f746c50",
   "metadata": {},
   "outputs": [
    {
     "name": "stdout",
     "output_type": "stream",
     "text": [
      "(66, 69)\n",
      "(60, 70)\n"
     ]
    }
   ],
   "source": [
    "df_VT_train = pd.DataFrame(VT_train)\n",
    "\n",
    "df_VT_test = pd.DataFrame(VT_test)\n",
    "\n",
    "print(df_VT_train.shape)\n",
    "print(df_VT_test.shape)"
   ]
  },
  {
   "cell_type": "markdown",
   "id": "885a0328",
   "metadata": {},
   "source": [
    "# Косинусное расстояние"
   ]
  },
  {
   "cell_type": "code",
   "execution_count": 27,
   "id": "5f28abf0",
   "metadata": {},
   "outputs": [],
   "source": [
    "def my_cos_dist(x, y):\n",
    "    \n",
    "    '''\n",
    "    На вход:\n",
    "        x - матрица 1\n",
    "        y - матрица 2\n",
    "    \n",
    "    На выходе:\n",
    "        Вектор с вычисленным косинусным расстоянием между обеими матрицы\n",
    "    '''\n",
    "    \n",
    "    num = x.T @ y\n",
    "    norm_x = np.linalg.norm(x)\n",
    "    norm_y = np.linalg.norm(y)\n",
    "    result = num / norm_x*norm_y\n",
    "    \n",
    "    return result"
   ]
  },
  {
   "cell_type": "code",
   "execution_count": 28,
   "id": "25d19be8",
   "metadata": {},
   "outputs": [],
   "source": [
    "def correcaltion_func(x, y):\n",
    "    \n",
    "    '''\n",
    "    На вход:\n",
    "        x - матрица 1\n",
    "        y - матрица 2\n",
    "    \n",
    "    На выходе:\n",
    "        Вектор с вычисленной корреляцией между обеими матрицы\n",
    "    '''\n",
    "    \n",
    "    result = np.corrcoef(x, y)[1, 0]\n",
    "    \n",
    "    return result"
   ]
  },
  {
   "cell_type": "code",
   "execution_count": 29,
   "id": "bee0aa39",
   "metadata": {},
   "outputs": [],
   "source": [
    "def compare_stocks(ticker_to_compare, emb_matrix_df, ticker2id_dict, id2ticker_dict=dict(), \n",
    "                   dist_func = {'my_cos_dist': my_cos_dist}, col_to_sort = ''):\n",
    "    \n",
    "    '''\n",
    "    На вход:\n",
    "        emb_matrix_df - матрица эмбедингов акций\n",
    "        ticker2id_dict - матрица \n",
    "    \n",
    "    На выходе:\n",
    "        Вектор с вычисленным косинусным расстоянием между обеими матрицы\n",
    "    '''\n",
    "    \n",
    "    if len(id2ticker_dict) == 0:\n",
    "        id2ticker_dict = {val:key for key, val in ticker2id_dict.items()}\n",
    "        \n",
    "    if col_to_sort == '':\n",
    "        col_to_sort = list(dist_func.keys())[0]\n",
    "    \n",
    "    id_to_compare = ticker2id_dict[ticker_to_compare]\n",
    "    vec_to_compare_0 = emb_matrix_df[id_to_compare].values\n",
    "    stock_to_compare = emb_matrix_df[id_to_compare]\n",
    "    \n",
    "    other_indexes = emb_matrix_df.columns.tolist()\n",
    "    other_indexes.remove(id_to_compare)\n",
    "    \n",
    "    result_array = np.zeros((len(other_indexes), len(dist_func)))\n",
    "    for i, stock_id in enumerate(other_indexes):\n",
    "        vec_to_compare_1 = emb_matrix_df[stock_id].values\n",
    "        \n",
    "        res_line = []\n",
    "        for key_func in dist_func:\n",
    "            res_el = dist_func[key_func](vec_to_compare_0, vec_to_compare_1)\n",
    "            res_line.append(res_el)\n",
    "            \n",
    "        result_array[i, :] = res_line\n",
    "    \n",
    "    true_name_stocks = [id2ticker_dict[id_] for id_ in other_indexes]\n",
    "    result_df = pd.DataFrame(result_array, columns = dist_func.keys(), index = true_name_stocks)\n",
    "    result_df = result_df.sort_values(by=col_to_sort, ascending=False)\n",
    "    return result_df"
   ]
  },
  {
   "cell_type": "code",
   "execution_count": 30,
   "id": "70027bc1",
   "metadata": {},
   "outputs": [],
   "source": [
    "my_dist_func = {'my_cos_dist': my_cos_dist,\n",
    "               'correlation': correcaltion_func}\n",
    "\n",
    "ratio_train = compare_stocks('GAZP', df_VT_train, tick2ind, ind2tick, my_dist_func)\n",
    "ratio_train = ratio_train.sort_values('correlation', ascending=False)\n",
    "\n",
    "ratio_test = compare_stocks('YNDX', df_VT_test, tick2ind, ind2tick, my_dist_func)\n",
    "ratio_test = ratio_test.sort_values('correlation', ascending=False)"
   ]
  },
  {
   "cell_type": "markdown",
   "id": "2bed8f66",
   "metadata": {},
   "source": [
    "# Модели"
   ]
  },
  {
   "cell_type": "code",
   "execution_count": 31,
   "id": "4d32210d",
   "metadata": {},
   "outputs": [],
   "source": [
    "model_names = ['CosineRecommender', 'AlternatingLeastSquares']\n",
    "\n",
    "metrics = {'Precision@k': precision, 'Recall@k': mean_recall, 'Mean Reciprocal Rank': MRR, \n",
    "           'Mean Average Precision': mean_average_precision_at_k}\n",
    "\n",
    "results = pd.DataFrame([])"
   ]
  },
  {
   "cell_type": "code",
   "execution_count": 32,
   "id": "56a6e29c",
   "metadata": {},
   "outputs": [],
   "source": [
    "def calculate_metrics(test_data, predict_data, metrics={}):\n",
    "    \n",
    "    '''\n",
    "    На вход:\n",
    "        test_data - тестовый набор данных\n",
    "        predict_data - рекомендации для пользователя\n",
    "    \n",
    "    На выходе:\n",
    "        Вычисленная таблица с результатами \n",
    "    '''\n",
    "    \n",
    "    if len(metrics) == 0:\n",
    "        raise ValueError('metrics are empty')\n",
    "        \n",
    "    results = dict()\n",
    "    for key in metrics:\n",
    "        results[key] = metrics[key](test_data, predict_data)\n",
    "    \n",
    "    return results"
   ]
  },
  {
   "cell_type": "markdown",
   "id": "cfcfd5ee",
   "metadata": {},
   "source": [
    "# Implicit"
   ]
  },
  {
   "cell_type": "markdown",
   "id": "3c458562",
   "metadata": {},
   "source": [
    "### Item-to-item модели\n",
    "Векорное представление для объекта - весь столбец из матрицы взаимодействий (user_item) матрица\n",
    "\n",
    "Процесс построения рекомендаций - поиск похожих объектов (по косинусной близости) для всех объектов, с которыми пользователь уже взаимодействовал и выдача топа из этого списка\n",
    "\n",
    "Пространство для тюнинга - взвешние на уровне таблицы, взвешивание элементов матрицы (на уровне моделей), кол-во соседей K\n",
    "\n",
    "Этим модели для Item-to-item подхода ожидают на вход матрицу в ориентации item_user, поэтому в fit передаем train_mat.T"
   ]
  },
  {
   "cell_type": "code",
   "execution_count": 33,
   "id": "a1263705",
   "metadata": {
    "scrolled": true
   },
   "outputs": [
    {
     "data": {
      "application/vnd.jupyter.widget-view+json": {
       "model_id": "a553933080cb4137890d3a0c9b575f8b",
       "version_major": 2,
       "version_minor": 0
      },
      "text/plain": [
       "  0%|          | 0/69 [00:00<?, ?it/s]"
      ]
     },
     "metadata": {},
     "output_type": "display_data"
    }
   ],
   "source": [
    "cosine_model = CosineRecommender(K=20)\n",
    "cosine_model.fit(sample_matr_train)"
   ]
  },
  {
   "cell_type": "markdown",
   "id": "de347e53",
   "metadata": {},
   "source": [
    "Параметр K влияет на максимальную выдачу топа, поэтому N для таких моделей желательно указывать меньше K"
   ]
  },
  {
   "cell_type": "code",
   "execution_count": 34,
   "id": "aeff59a3",
   "metadata": {},
   "outputs": [],
   "source": [
    "def recommend_tick(user, model, train_matrix, N):\n",
    "    user_id = user2ind[user]\n",
    "\n",
    "    recs = model.recommend(user_id, train_matrix[user_id], N=N, filter_already_liked_items=True)\n",
    "    \n",
    "    res = [ind2tick[ticker_ids] for ticker_ids in recs[0]]\n",
    "    return res"
   ]
  },
  {
   "cell_type": "code",
   "execution_count": 35,
   "id": "94cda2c6",
   "metadata": {},
   "outputs": [],
   "source": [
    "def find_similar(user, model, train_matrix, N):\n",
    "    user_id = user2ind[user]\n",
    "\n",
    "    recs = model.recommend(user_id, train_matrix[user_id], N=N, filter_already_liked_items=True)\n",
    "    \n",
    "    res = recs[1]\n",
    "    return res"
   ]
  },
  {
   "cell_type": "code",
   "execution_count": 36,
   "id": "404258bd",
   "metadata": {},
   "outputs": [
    {
     "data": {
      "text/html": [
       "<div>\n",
       "<style scoped>\n",
       "    .dataframe tbody tr th:only-of-type {\n",
       "        vertical-align: middle;\n",
       "    }\n",
       "\n",
       "    .dataframe tbody tr th {\n",
       "        vertical-align: top;\n",
       "    }\n",
       "\n",
       "    .dataframe thead th {\n",
       "        text-align: right;\n",
       "    }\n",
       "</style>\n",
       "<table border=\"1\" class=\"dataframe\">\n",
       "  <thead>\n",
       "    <tr style=\"text-align: right;\">\n",
       "      <th></th>\n",
       "      <th>user</th>\n",
       "      <th>ticker</th>\n",
       "      <th>similar</th>\n",
       "    </tr>\n",
       "  </thead>\n",
       "  <tbody>\n",
       "    <tr>\n",
       "      <th>0</th>\n",
       "      <td>1_100013</td>\n",
       "      <td>[NLMK, IRAO, MGNT, GMKN, AFLT, GAZP, MAGN, HYD...</td>\n",
       "      <td>[0.5349589623089654, 0.5436748159591326, 0.614...</td>\n",
       "    </tr>\n",
       "    <tr>\n",
       "      <th>1</th>\n",
       "      <td>1_100033</td>\n",
       "      <td>[RSTI, NLMK, GMKN, MOEX, MGNT, NVTK, ROSN, ALR...</td>\n",
       "      <td>[11.335317989439316, 11.562178263146457, 13.11...</td>\n",
       "    </tr>\n",
       "    <tr>\n",
       "      <th>2</th>\n",
       "      <td>1_100049</td>\n",
       "      <td>[ALRS, CHMF, NMTP, OGKB, AFLT, MSNG, PHOR, PIK...</td>\n",
       "      <td>[14.448589958341046, 15.343560451662828, 21.08...</td>\n",
       "    </tr>\n",
       "    <tr>\n",
       "      <th>3</th>\n",
       "      <td>1_100050</td>\n",
       "      <td>[RASP, POLY, LSRG, QIWI, PLZL, NLMK, NVTK, RST...</td>\n",
       "      <td>[6.944676828099718, 7.280567977000016, 12.9769...</td>\n",
       "    </tr>\n",
       "    <tr>\n",
       "      <th>4</th>\n",
       "      <td>1_100093</td>\n",
       "      <td>[MAIL, ROSN, FEES, HYDR, GAZP, OGKB, RSTI, GMK...</td>\n",
       "      <td>[14.779178451092061, 20.186533130597443, 18.45...</td>\n",
       "    </tr>\n",
       "  </tbody>\n",
       "</table>\n",
       "</div>"
      ],
      "text/plain": [
       "       user                                             ticker  \\\n",
       "0  1_100013  [NLMK, IRAO, MGNT, GMKN, AFLT, GAZP, MAGN, HYD...   \n",
       "1  1_100033  [RSTI, NLMK, GMKN, MOEX, MGNT, NVTK, ROSN, ALR...   \n",
       "2  1_100049  [ALRS, CHMF, NMTP, OGKB, AFLT, MSNG, PHOR, PIK...   \n",
       "3  1_100050  [RASP, POLY, LSRG, QIWI, PLZL, NLMK, NVTK, RST...   \n",
       "4  1_100093  [MAIL, ROSN, FEES, HYDR, GAZP, OGKB, RSTI, GMK...   \n",
       "\n",
       "                                             similar  \n",
       "0  [0.5349589623089654, 0.5436748159591326, 0.614...  \n",
       "1  [11.335317989439316, 11.562178263146457, 13.11...  \n",
       "2  [14.448589958341046, 15.343560451662828, 21.08...  \n",
       "3  [6.944676828099718, 7.280567977000016, 12.9769...  \n",
       "4  [14.779178451092061, 20.186533130597443, 18.45...  "
      ]
     },
     "execution_count": 36,
     "metadata": {},
     "output_type": "execute_result"
    }
   ],
   "source": [
    "top_N = 10\n",
    "df_recs_cossim = pd.DataFrame({'user': test['user'].unique()})\n",
    "\n",
    "df_recs_cossim['ticker'] = df_recs_cossim['user'].apply(lambda x: \n",
    "                                                        recommend_tick(x, cosine_model, sample_matr_train, top_N))\n",
    "\n",
    "df_recs_cossim['similar'] = df_recs_cossim['user'].apply(lambda x: find_similar(x, cosine_model, sample_matr_train, top_N))\n",
    "df_recs_cossim.head()"
   ]
  },
  {
   "cell_type": "code",
   "execution_count": 37,
   "id": "2e01ceb0",
   "metadata": {},
   "outputs": [
    {
     "data": {
      "text/html": [
       "<div>\n",
       "<style scoped>\n",
       "    .dataframe tbody tr th:only-of-type {\n",
       "        vertical-align: middle;\n",
       "    }\n",
       "\n",
       "    .dataframe tbody tr th {\n",
       "        vertical-align: top;\n",
       "    }\n",
       "\n",
       "    .dataframe thead th {\n",
       "        text-align: right;\n",
       "    }\n",
       "</style>\n",
       "<table border=\"1\" class=\"dataframe\">\n",
       "  <thead>\n",
       "    <tr style=\"text-align: right;\">\n",
       "      <th></th>\n",
       "      <th>user</th>\n",
       "      <th>ticker</th>\n",
       "      <th>similar</th>\n",
       "      <th>rank</th>\n",
       "    </tr>\n",
       "  </thead>\n",
       "  <tbody>\n",
       "    <tr>\n",
       "      <th>0</th>\n",
       "      <td>1_100013</td>\n",
       "      <td>NLMK</td>\n",
       "      <td>0.534959</td>\n",
       "      <td>1</td>\n",
       "    </tr>\n",
       "    <tr>\n",
       "      <th>0</th>\n",
       "      <td>1_100013</td>\n",
       "      <td>IRAO</td>\n",
       "      <td>0.543675</td>\n",
       "      <td>2</td>\n",
       "    </tr>\n",
       "    <tr>\n",
       "      <th>0</th>\n",
       "      <td>1_100013</td>\n",
       "      <td>MGNT</td>\n",
       "      <td>0.614498</td>\n",
       "      <td>3</td>\n",
       "    </tr>\n",
       "    <tr>\n",
       "      <th>0</th>\n",
       "      <td>1_100013</td>\n",
       "      <td>GMKN</td>\n",
       "      <td>0.595059</td>\n",
       "      <td>4</td>\n",
       "    </tr>\n",
       "    <tr>\n",
       "      <th>0</th>\n",
       "      <td>1_100013</td>\n",
       "      <td>AFLT</td>\n",
       "      <td>0.79658</td>\n",
       "      <td>5</td>\n",
       "    </tr>\n",
       "    <tr>\n",
       "      <th>0</th>\n",
       "      <td>1_100013</td>\n",
       "      <td>GAZP</td>\n",
       "      <td>0.616513</td>\n",
       "      <td>6</td>\n",
       "    </tr>\n",
       "    <tr>\n",
       "      <th>0</th>\n",
       "      <td>1_100013</td>\n",
       "      <td>MAGN</td>\n",
       "      <td>0.880075</td>\n",
       "      <td>7</td>\n",
       "    </tr>\n",
       "    <tr>\n",
       "      <th>0</th>\n",
       "      <td>1_100013</td>\n",
       "      <td>HYDR</td>\n",
       "      <td>0.882497</td>\n",
       "      <td>8</td>\n",
       "    </tr>\n",
       "    <tr>\n",
       "      <th>0</th>\n",
       "      <td>1_100013</td>\n",
       "      <td>ROSN</td>\n",
       "      <td>0.70815</td>\n",
       "      <td>9</td>\n",
       "    </tr>\n",
       "    <tr>\n",
       "      <th>0</th>\n",
       "      <td>1_100013</td>\n",
       "      <td>CHMF</td>\n",
       "      <td>0.89358</td>\n",
       "      <td>10</td>\n",
       "    </tr>\n",
       "    <tr>\n",
       "      <th>1</th>\n",
       "      <td>1_100033</td>\n",
       "      <td>RSTI</td>\n",
       "      <td>11.335318</td>\n",
       "      <td>1</td>\n",
       "    </tr>\n",
       "    <tr>\n",
       "      <th>1</th>\n",
       "      <td>1_100033</td>\n",
       "      <td>NLMK</td>\n",
       "      <td>11.562178</td>\n",
       "      <td>2</td>\n",
       "    </tr>\n",
       "  </tbody>\n",
       "</table>\n",
       "</div>"
      ],
      "text/plain": [
       "       user ticker    similar  rank\n",
       "0  1_100013   NLMK   0.534959     1\n",
       "0  1_100013   IRAO   0.543675     2\n",
       "0  1_100013   MGNT   0.614498     3\n",
       "0  1_100013   GMKN   0.595059     4\n",
       "0  1_100013   AFLT    0.79658     5\n",
       "0  1_100013   GAZP   0.616513     6\n",
       "0  1_100013   MAGN   0.880075     7\n",
       "0  1_100013   HYDR   0.882497     8\n",
       "0  1_100013   ROSN    0.70815     9\n",
       "0  1_100013   CHMF    0.89358    10\n",
       "1  1_100033   RSTI  11.335318     1\n",
       "1  1_100033   NLMK  11.562178     2"
      ]
     },
     "execution_count": 37,
     "metadata": {},
     "output_type": "execute_result"
    }
   ],
   "source": [
    "df_recs_cossim = df_recs_cossim.explode(['similar', 'ticker'])\n",
    "df_recs_cossim['rank'] = df_recs_cossim.groupby('user').cumcount() + 1\n",
    "df_recs_cossim.head(top_N + 2)"
   ]
  },
  {
   "cell_type": "code",
   "execution_count": 38,
   "id": "cfe95a13",
   "metadata": {},
   "outputs": [],
   "source": [
    "user2ind = {user:i for i, user in enumerate(test['user'].unique())}\n",
    "\n",
    "test.index = test['user'].apply(lambda x: user2ind[x])"
   ]
  },
  {
   "cell_type": "markdown",
   "id": "53dbde71",
   "metadata": {},
   "source": [
    "Вычисляем результаты"
   ]
  },
  {
   "cell_type": "code",
   "execution_count": 39,
   "id": "7188d2a6",
   "metadata": {},
   "outputs": [],
   "source": [
    "result_cossim = calculate_metrics(test, df_recs_cossim, metrics=metrics)  \n",
    "results = results.append(result_cossim, ignore_index=True)"
   ]
  },
  {
   "cell_type": "markdown",
   "id": "b1f92841",
   "metadata": {},
   "source": [
    "## ALS"
   ]
  },
  {
   "cell_type": "markdown",
   "id": "5d00aed5",
   "metadata": {},
   "source": [
    "Векорное представление - на основе разложения матрицы взамиодействий (с весами) в произведение двух матриц. Одна матрица размерности [users x factors] содержит векторные представления всех пользователей, другая матрица [items x factors] для объектов\n",
    "\n",
    "Процесс построения рекомендаций - для конкретного пользователя ищутся такие объекты, что скалярное произведение их векторов максимально.\n",
    "\n",
    "Пространство для тюнинга\n",
    "\n",
    "* взвешивание на уровне таблицы\n",
    "* factors - размерность итоговых векторов (обычно степени 2-ки, от 16 до 256)\n",
    "* iterations - кол-во итераций (от 10 до 100)\n",
    "* regularization - регуляризация векторов (степени 10-ки, от 0.0001 до 1)\n",
    "* Есть возможность использовать GPU через use_gpu=True и ApproximateNearestNeighbors (на уровне модели)"
   ]
  },
  {
   "cell_type": "code",
   "execution_count": 40,
   "id": "1fc59804",
   "metadata": {},
   "outputs": [
    {
     "name": "stderr",
     "output_type": "stream",
     "text": [
      "C:\\Users\\isaev\\miniconda3\\lib\\site-packages\\implicit\\utils.py:31: UserWarning: Intel MKL BLAS detected. Its highly recommend to set the environment variable 'export MKL_NUM_THREADS=1' to disable its internal multithreading\n",
      "  warnings.warn(\n"
     ]
    },
    {
     "data": {
      "application/vnd.jupyter.widget-view+json": {
       "model_id": "e4af0bb57d4d4e8ba9e4226752115aec",
       "version_major": 2,
       "version_minor": 0
      },
      "text/plain": [
       "  0%|          | 0/40 [00:00<?, ?it/s]"
      ]
     },
     "metadata": {},
     "output_type": "display_data"
    }
   ],
   "source": [
    "als_model = AlternatingLeastSquares(factors=32, iterations=40)\n",
    "als_model.fit(sample_matr_train) "
   ]
  },
  {
   "cell_type": "code",
   "execution_count": 41,
   "id": "125e44b2",
   "metadata": {},
   "outputs": [
    {
     "data": {
      "text/html": [
       "<div>\n",
       "<style scoped>\n",
       "    .dataframe tbody tr th:only-of-type {\n",
       "        vertical-align: middle;\n",
       "    }\n",
       "\n",
       "    .dataframe tbody tr th {\n",
       "        vertical-align: top;\n",
       "    }\n",
       "\n",
       "    .dataframe thead th {\n",
       "        text-align: right;\n",
       "    }\n",
       "</style>\n",
       "<table border=\"1\" class=\"dataframe\">\n",
       "  <thead>\n",
       "    <tr style=\"text-align: right;\">\n",
       "      <th></th>\n",
       "      <th>user</th>\n",
       "      <th>ticker</th>\n",
       "      <th>similar</th>\n",
       "    </tr>\n",
       "  </thead>\n",
       "  <tbody>\n",
       "    <tr>\n",
       "      <th>0</th>\n",
       "      <td>1_100013</td>\n",
       "      <td>[AGRO, RUAL, SBERP, FIVE, SMLT, IRAO, PIKK, TR...</td>\n",
       "      <td>[0.13501224, 0.11469802, 0.092735246, 0.080921...</td>\n",
       "    </tr>\n",
       "    <tr>\n",
       "      <th>1</th>\n",
       "      <td>1_100033</td>\n",
       "      <td>[ENPG, DSKY, CHMF, CBOM, BSPB, BELU, ALRS, AGR...</td>\n",
       "      <td>[0.0, 0.0, 0.0, 0.0, 0.0, 0.0, 0.0, 0.0, 0.0, ...</td>\n",
       "    </tr>\n",
       "    <tr>\n",
       "      <th>2</th>\n",
       "      <td>1_100049</td>\n",
       "      <td>[RSTI, RASP, RUAL, RTKMP, DSKY, POLY, MAGN, LS...</td>\n",
       "      <td>[0.30811054, 0.24100569, 0.2000211, 0.19397289...</td>\n",
       "    </tr>\n",
       "    <tr>\n",
       "      <th>3</th>\n",
       "      <td>1_100050</td>\n",
       "      <td>[NMTP, LNTA, MSNG, DSKY, RASP, TATN, SNGSP, LS...</td>\n",
       "      <td>[1.0029626, 0.6611083, 0.48966327, 0.436554, 0...</td>\n",
       "    </tr>\n",
       "    <tr>\n",
       "      <th>4</th>\n",
       "      <td>1_100093</td>\n",
       "      <td>[DSKY, RUAL, AGRO, FIVE, RASP, MRKC, RSTI, MSN...</td>\n",
       "      <td>[0.31526366, 0.20684677, 0.18116432, 0.1730029...</td>\n",
       "    </tr>\n",
       "  </tbody>\n",
       "</table>\n",
       "</div>"
      ],
      "text/plain": [
       "       user                                             ticker  \\\n",
       "0  1_100013  [AGRO, RUAL, SBERP, FIVE, SMLT, IRAO, PIKK, TR...   \n",
       "1  1_100033  [ENPG, DSKY, CHMF, CBOM, BSPB, BELU, ALRS, AGR...   \n",
       "2  1_100049  [RSTI, RASP, RUAL, RTKMP, DSKY, POLY, MAGN, LS...   \n",
       "3  1_100050  [NMTP, LNTA, MSNG, DSKY, RASP, TATN, SNGSP, LS...   \n",
       "4  1_100093  [DSKY, RUAL, AGRO, FIVE, RASP, MRKC, RSTI, MSN...   \n",
       "\n",
       "                                             similar  \n",
       "0  [0.13501224, 0.11469802, 0.092735246, 0.080921...  \n",
       "1  [0.0, 0.0, 0.0, 0.0, 0.0, 0.0, 0.0, 0.0, 0.0, ...  \n",
       "2  [0.30811054, 0.24100569, 0.2000211, 0.19397289...  \n",
       "3  [1.0029626, 0.6611083, 0.48966327, 0.436554, 0...  \n",
       "4  [0.31526366, 0.20684677, 0.18116432, 0.1730029...  "
      ]
     },
     "execution_count": 41,
     "metadata": {},
     "output_type": "execute_result"
    }
   ],
   "source": [
    "top_N = 10\n",
    "df_recs_als = pd.DataFrame({'user': test['user'].unique()})\n",
    "\n",
    "df_recs_als['ticker'] = df_recs_als['user'].apply(lambda x: recommend_tick(x, als_model, sample_matr_train, top_N))\n",
    "df_recs_als['similar'] = df_recs_als['user'].apply(lambda x: find_similar(x, als_model, sample_matr_train, top_N))\n",
    "\n",
    "df_recs_als.head()"
   ]
  },
  {
   "cell_type": "code",
   "execution_count": 42,
   "id": "fdfbad89",
   "metadata": {},
   "outputs": [
    {
     "data": {
      "text/html": [
       "<div>\n",
       "<style scoped>\n",
       "    .dataframe tbody tr th:only-of-type {\n",
       "        vertical-align: middle;\n",
       "    }\n",
       "\n",
       "    .dataframe tbody tr th {\n",
       "        vertical-align: top;\n",
       "    }\n",
       "\n",
       "    .dataframe thead th {\n",
       "        text-align: right;\n",
       "    }\n",
       "</style>\n",
       "<table border=\"1\" class=\"dataframe\">\n",
       "  <thead>\n",
       "    <tr style=\"text-align: right;\">\n",
       "      <th></th>\n",
       "      <th>user</th>\n",
       "      <th>ticker</th>\n",
       "      <th>similar</th>\n",
       "      <th>rank</th>\n",
       "    </tr>\n",
       "  </thead>\n",
       "  <tbody>\n",
       "    <tr>\n",
       "      <th>0</th>\n",
       "      <td>1_100013</td>\n",
       "      <td>AGRO</td>\n",
       "      <td>0.135012</td>\n",
       "      <td>1</td>\n",
       "    </tr>\n",
       "    <tr>\n",
       "      <th>0</th>\n",
       "      <td>1_100013</td>\n",
       "      <td>RUAL</td>\n",
       "      <td>0.114698</td>\n",
       "      <td>2</td>\n",
       "    </tr>\n",
       "    <tr>\n",
       "      <th>0</th>\n",
       "      <td>1_100013</td>\n",
       "      <td>SBERP</td>\n",
       "      <td>0.092735</td>\n",
       "      <td>3</td>\n",
       "    </tr>\n",
       "    <tr>\n",
       "      <th>0</th>\n",
       "      <td>1_100013</td>\n",
       "      <td>FIVE</td>\n",
       "      <td>0.080921</td>\n",
       "      <td>4</td>\n",
       "    </tr>\n",
       "    <tr>\n",
       "      <th>0</th>\n",
       "      <td>1_100013</td>\n",
       "      <td>SMLT</td>\n",
       "      <td>0.072831</td>\n",
       "      <td>5</td>\n",
       "    </tr>\n",
       "    <tr>\n",
       "      <th>0</th>\n",
       "      <td>1_100013</td>\n",
       "      <td>IRAO</td>\n",
       "      <td>0.070438</td>\n",
       "      <td>6</td>\n",
       "    </tr>\n",
       "    <tr>\n",
       "      <th>0</th>\n",
       "      <td>1_100013</td>\n",
       "      <td>PIKK</td>\n",
       "      <td>0.055413</td>\n",
       "      <td>7</td>\n",
       "    </tr>\n",
       "    <tr>\n",
       "      <th>0</th>\n",
       "      <td>1_100013</td>\n",
       "      <td>TRNFP</td>\n",
       "      <td>0.055395</td>\n",
       "      <td>8</td>\n",
       "    </tr>\n",
       "    <tr>\n",
       "      <th>0</th>\n",
       "      <td>1_100013</td>\n",
       "      <td>PHOR</td>\n",
       "      <td>0.053897</td>\n",
       "      <td>9</td>\n",
       "    </tr>\n",
       "    <tr>\n",
       "      <th>0</th>\n",
       "      <td>1_100013</td>\n",
       "      <td>VTBR</td>\n",
       "      <td>0.050878</td>\n",
       "      <td>10</td>\n",
       "    </tr>\n",
       "    <tr>\n",
       "      <th>1</th>\n",
       "      <td>1_100033</td>\n",
       "      <td>ENPG</td>\n",
       "      <td>0.0</td>\n",
       "      <td>1</td>\n",
       "    </tr>\n",
       "    <tr>\n",
       "      <th>1</th>\n",
       "      <td>1_100033</td>\n",
       "      <td>DSKY</td>\n",
       "      <td>0.0</td>\n",
       "      <td>2</td>\n",
       "    </tr>\n",
       "  </tbody>\n",
       "</table>\n",
       "</div>"
      ],
      "text/plain": [
       "       user ticker   similar  rank\n",
       "0  1_100013   AGRO  0.135012     1\n",
       "0  1_100013   RUAL  0.114698     2\n",
       "0  1_100013  SBERP  0.092735     3\n",
       "0  1_100013   FIVE  0.080921     4\n",
       "0  1_100013   SMLT  0.072831     5\n",
       "0  1_100013   IRAO  0.070438     6\n",
       "0  1_100013   PIKK  0.055413     7\n",
       "0  1_100013  TRNFP  0.055395     8\n",
       "0  1_100013   PHOR  0.053897     9\n",
       "0  1_100013   VTBR  0.050878    10\n",
       "1  1_100033   ENPG       0.0     1\n",
       "1  1_100033   DSKY       0.0     2"
      ]
     },
     "execution_count": 42,
     "metadata": {},
     "output_type": "execute_result"
    }
   ],
   "source": [
    "df_recs_als = df_recs_als.explode(['ticker', 'similar'])\n",
    "df_recs_als['rank'] = df_recs_als.groupby('user').cumcount() + 1\n",
    "df_recs_als.head(top_N + 2)"
   ]
  },
  {
   "cell_type": "markdown",
   "id": "c304e93e",
   "metadata": {},
   "source": [
    "Вычисляем результаты"
   ]
  },
  {
   "cell_type": "code",
   "execution_count": 43,
   "id": "18c591e1",
   "metadata": {},
   "outputs": [],
   "source": [
    "result_als = calculate_metrics(test, df_recs_als, metrics=metrics)  \n",
    "results = results.append(result_als, ignore_index=True)"
   ]
  },
  {
   "cell_type": "code",
   "execution_count": 44,
   "id": "fbe69b51",
   "metadata": {},
   "outputs": [
    {
     "data": {
      "text/html": [
       "<div>\n",
       "<style scoped>\n",
       "    .dataframe tbody tr th:only-of-type {\n",
       "        vertical-align: middle;\n",
       "    }\n",
       "\n",
       "    .dataframe tbody tr th {\n",
       "        vertical-align: top;\n",
       "    }\n",
       "\n",
       "    .dataframe thead th {\n",
       "        text-align: right;\n",
       "    }\n",
       "</style>\n",
       "<table border=\"1\" class=\"dataframe\">\n",
       "  <thead>\n",
       "    <tr style=\"text-align: right;\">\n",
       "      <th></th>\n",
       "      <th>Precision@k</th>\n",
       "      <th>Recall@k</th>\n",
       "      <th>Mean Reciprocal Rank</th>\n",
       "      <th>Mean Average Precision</th>\n",
       "    </tr>\n",
       "  </thead>\n",
       "  <tbody>\n",
       "    <tr>\n",
       "      <th>CosineRecommender</th>\n",
       "      <td>0.070347</td>\n",
       "      <td>0.043645</td>\n",
       "      <td>0.0</td>\n",
       "      <td>0.004558</td>\n",
       "    </tr>\n",
       "    <tr>\n",
       "      <th>AlternatingLeastSquares</th>\n",
       "      <td>0.109128</td>\n",
       "      <td>0.079795</td>\n",
       "      <td>0.0</td>\n",
       "      <td>0.004080</td>\n",
       "    </tr>\n",
       "  </tbody>\n",
       "</table>\n",
       "</div>"
      ],
      "text/plain": [
       "                         Precision@k  Recall@k  Mean Reciprocal Rank  \\\n",
       "CosineRecommender           0.070347  0.043645                   0.0   \n",
       "AlternatingLeastSquares     0.109128  0.079795                   0.0   \n",
       "\n",
       "                         Mean Average Precision  \n",
       "CosineRecommender                      0.004558  \n",
       "AlternatingLeastSquares                0.004080  "
      ]
     },
     "execution_count": 44,
     "metadata": {},
     "output_type": "execute_result"
    }
   ],
   "source": [
    "results.index = model_names\n",
    "results"
   ]
  },
  {
   "cell_type": "markdown",
   "id": "a5c4d5ea",
   "metadata": {},
   "source": [
    "Выгружаем данные"
   ]
  },
  {
   "cell_type": "code",
   "execution_count": 99,
   "id": "8e01d175",
   "metadata": {},
   "outputs": [],
   "source": [
    "user2ind = {user:i for i, user in enumerate(train['user'].unique())}\n",
    "\n",
    "train['new'] = train['user'].apply(lambda x: user2ind[x])\n",
    "train.index = train['new']\n",
    "\n",
    "train.to_excel('Train_dataset.xlsx')\n",
    "results.to_excel('Metrics.xlsx')"
   ]
  },
  {
   "cell_type": "code",
   "execution_count": 52,
   "id": "f05cd648",
   "metadata": {},
   "outputs": [],
   "source": [
    "df_to_csv = pd.DataFrame()\n",
    "df_to_csv[['user']] = df_recs_als[['user']]\n",
    "df_to_csv[['Model_1', 'Similar_1']] = df_recs_cossim[['ticker', 'similar']]\n",
    "df_to_csv[['Model_2', 'Similar_2']] = df_recs_als[['ticker', 'similar']]"
   ]
  },
  {
   "cell_type": "code",
   "execution_count": 64,
   "id": "abce69c4",
   "metadata": {},
   "outputs": [],
   "source": [
    "df_to_csv.to_excel('Recommendation.xlsx')"
   ]
  }
 ],
 "metadata": {
  "kernelspec": {
   "display_name": "Python 3 (ipykernel)",
   "language": "python",
   "name": "python3"
  },
  "language_info": {
   "codemirror_mode": {
    "name": "ipython",
    "version": 3
   },
   "file_extension": ".py",
   "mimetype": "text/x-python",
   "name": "python",
   "nbconvert_exporter": "python",
   "pygments_lexer": "ipython3",
   "version": "3.9.12"
  }
 },
 "nbformat": 4,
 "nbformat_minor": 5
}
